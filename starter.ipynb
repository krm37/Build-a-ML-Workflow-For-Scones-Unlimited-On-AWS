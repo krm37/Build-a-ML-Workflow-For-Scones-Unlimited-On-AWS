{
 "cells": [
  {
   "cell_type": "markdown",
   "metadata": {
    "editable": true,
    "slideshow": {
     "slide_type": ""
    },
    "tags": []
   },
   "source": [
    "# Deploy and monitor a machine learning workflow for Image Classification"
   ]
  },
  {
   "cell_type": "markdown",
   "metadata": {},
   "source": [
    "## Setting up this notebook\n",
    "\n",
    "Notes about the instance size and kernel setup: this notebook has been tested on\n",
    "\n",
    "1. The `Python 3 (Data Science)` kernel\n",
    "2. The `ml.t3.medium` Sagemaker notebook instance\n",
    "\n",
    "## Data Staging\n",
    "\n",
    "We'll use a sample dataset called CIFAR to simulate the challenges Scones Unlimited are facing in Image Classification. In order to start working with CIFAR we'll need to:\n",
    "\n",
    "1. Extract the data from a hosting service\n",
    "2. Transform it into a usable shape and format\n",
    "3. Load it into a production system\n",
    "\n",
    "In other words, we're going to do some simple ETL!\n",
    "\n",
    "### 1. Extract the data from the hosting service\n",
    "\n",
    "In the cell below, define a function `extract_cifar_data` that extracts python version of the CIFAR-100 dataset. The CIFAR dataaset is open source and generously hosted by the University of Toronto at: https://www.cs.toronto.edu/~kriz/cifar-100-python.tar.gz "
   ]
  },
  {
   "cell_type": "code",
   "execution_count": 1,
   "metadata": {},
   "outputs": [],
   "source": [
    "import requests\n",
    "\n",
    "def extract_cifar_data(url, filename=\"cifar.tar.gz\"):\n",
    "    \"\"\"A function for extracting the CIFAR-100 dataset and storing it as a gzipped file\n",
    "    \n",
    "    Arguments:\n",
    "    url      -- the URL where the dataset is hosted\n",
    "    filename -- the full path where the dataset will be written\n",
    "    \n",
    "    \"\"\"\n",
    "\n",
    "    r = requests.get(\"https://www.cs.toronto.edu/~kriz/cifar-100-python.tar.gz\")\n",
    "    with open(filename, \"wb\") as file_context:\n",
    "        file_context.write(r.content)\n",
    "    return"
   ]
  },
  {
   "cell_type": "markdown",
   "metadata": {},
   "source": [
    "Let's test it out! Run the following cell and check whether a new file `cifar.tar.gz` is created in the file explorer."
   ]
  },
  {
   "cell_type": "code",
   "execution_count": 2,
   "metadata": {},
   "outputs": [],
   "source": [
    "extract_cifar_data(\"https://www.cs.toronto.edu/~kriz/cifar-100-python.tar.gz\")     "
   ]
  },
  {
   "cell_type": "markdown",
   "metadata": {},
   "source": [
    "### 2. Transform the data into a usable shape and format\n",
    "\n",
    "Clearly, distributing the data as a gzipped archive makes sense for the hosting service! It saves on bandwidth, storage, and it's a widely-used archive format. In fact, it's so widely used that the Python community ships a utility for working with them, `tarfile`, as part of its Standard Library. Execute the following cell to decompress your extracted dataset:"
   ]
  },
  {
   "cell_type": "code",
   "execution_count": 3,
   "metadata": {},
   "outputs": [],
   "source": [
    "import tarfile\n",
    "\n",
    "with tarfile.open(\"cifar.tar.gz\", \"r:gz\") as tar:\n",
    "    tar.extractall()"
   ]
  },
  {
   "cell_type": "markdown",
   "metadata": {},
   "source": [
    "A new folder `cifar-100-python` should be created, containing `meta`, `test`, and `train` files. These files are `pickles` and the [CIFAR homepage](https://www.cs.toronto.edu/~kriz/cifar.html) provides a simple script that can be used to load them. We've adapted the script below for you to run:"
   ]
  },
  {
   "cell_type": "code",
   "execution_count": 2,
   "metadata": {},
   "outputs": [],
   "source": [
    "import pickle\n",
    "\n",
    "with open(\"./cifar-100-python/meta\", \"rb\") as f:\n",
    "    dataset_meta = pickle.load(f, encoding='bytes')\n",
    "\n",
    "with open(\"./cifar-100-python/test\", \"rb\") as f:\n",
    "    dataset_test = pickle.load(f, encoding='bytes')\n",
    "\n",
    "with open(\"./cifar-100-python/train\", \"rb\") as f:\n",
    "    dataset_train = pickle.load(f, encoding='bytes')"
   ]
  },
  {
   "cell_type": "code",
   "execution_count": 3,
   "metadata": {},
   "outputs": [
    {
     "data": {
      "text/plain": [
       "dict_keys([b'filenames', b'batch_label', b'fine_labels', b'coarse_labels', b'data'])"
      ]
     },
     "execution_count": 3,
     "metadata": {},
     "output_type": "execute_result"
    }
   ],
   "source": [
    "# Feel free to explore the datasets\n",
    "\n",
    "dataset_train.keys()"
   ]
  },
  {
   "cell_type": "markdown",
   "metadata": {},
   "source": [
    "As documented on the homepage, `b'data'` contains rows of 3073 unsigned integers, representing three channels (red, green, and blue) for one 32x32 pixel image per row."
   ]
  },
  {
   "cell_type": "code",
   "execution_count": 4,
   "metadata": {},
   "outputs": [
    {
     "data": {
      "text/plain": [
       "(50000, 3072)"
      ]
     },
     "execution_count": 4,
     "metadata": {},
     "output_type": "execute_result"
    }
   ],
   "source": [
    "dataset_train[b'data'].shape"
   ]
  },
  {
   "cell_type": "code",
   "execution_count": 8,
   "metadata": {},
   "outputs": [
    {
     "data": {
      "text/plain": [
       "3072"
      ]
     },
     "execution_count": 8,
     "metadata": {},
     "output_type": "execute_result"
    }
   ],
   "source": [
    "32*32*3"
   ]
  },
  {
   "cell_type": "markdown",
   "metadata": {},
   "source": [
    "For a simple gut-check, let's transform one of our images. Each 1024 items in a row is a channel (red, green, then blue). Each 32 items in the channel are a row in the 32x32 image. Using python, we can stack these channels into a 32x32x3 array, and save it as a PNG file:"
   ]
  },
  {
   "cell_type": "code",
   "execution_count": 5,
   "metadata": {},
   "outputs": [],
   "source": [
    "import numpy as np\n",
    "\n",
    "# Each 1024 in a row is a channel (red, green, then blue)\n",
    "row = dataset_train[b'data'][0]\n",
    "red, green, blue = row[0:1024], row[1024:2048], row[2048:]\n",
    "\n",
    "# Each 32 items in the channel are a row in the 32x32 image\n",
    "red = red.reshape(32,32)\n",
    "green = green.reshape(32,32)\n",
    "blue = blue.reshape(32,32)\n",
    "\n",
    "# Combine the channels into a 32x32x3 image!\n",
    "combined = np.dstack((red,green,blue))"
   ]
  },
  {
   "cell_type": "markdown",
   "metadata": {},
   "source": [
    "For a more concise version, consider the following:"
   ]
  },
  {
   "cell_type": "code",
   "execution_count": 6,
   "metadata": {},
   "outputs": [],
   "source": [
    "# All in one:\n",
    "test_image = np.dstack((\n",
    "    row[0:1024].reshape(32,32),\n",
    "    row[1024:2048].reshape(32,32),\n",
    "    row[2048:].reshape(32,32)\n",
    "))"
   ]
  },
  {
   "cell_type": "code",
   "execution_count": 7,
   "metadata": {},
   "outputs": [
    {
     "data": {
      "image/png": "[encoded data removed]",
      "text/plain": [
       "<Figure size 640x480 with 1 Axes>"
      ]
     },
     "metadata": {},
     "output_type": "display_data"
    }
   ],
   "source": [
    "import matplotlib.pyplot as plt\n",
    "plt.imshow(test_image);"
   ]
  },
  {
   "cell_type": "markdown",
   "metadata": {},
   "source": [
    "Looks like a cow! Let's check the label. `dataset_meta` contains label names in order, and `dataset_train` has a list of labels for each row."
   ]
  },
  {
   "cell_type": "code",
   "execution_count": 8,
   "metadata": {},
   "outputs": [
    {
     "data": {
      "text/plain": [
       "19"
      ]
     },
     "execution_count": 8,
     "metadata": {},
     "output_type": "execute_result"
    }
   ],
   "source": [
    "dataset_train[b'fine_labels'][0]"
   ]
  },
  {
   "cell_type": "markdown",
   "metadata": {},
   "source": [
    "Our image has a label of `19`, so let's see what the 19th item is in the list of label names."
   ]
  },
  {
   "cell_type": "code",
   "execution_count": 9,
   "metadata": {},
   "outputs": [
    {
     "name": "stdout",
     "output_type": "stream",
     "text": [
      "b'cattle'\n"
     ]
    }
   ],
   "source": [
    "print(dataset_meta[b'fine_label_names'][19])"
   ]
  },
  {
   "cell_type": "markdown",
   "metadata": {},
   "source": [
    "Ok! 'cattle' sounds about right. By the way, using the previous two lines we can do:"
   ]
  },
  {
   "cell_type": "code",
   "execution_count": 10,
   "metadata": {},
   "outputs": [
    {
     "name": "stdout",
     "output_type": "stream",
     "text": [
      "b'cattle'\n"
     ]
    }
   ],
   "source": [
    "n = 0\n",
    "print(dataset_meta[b'fine_label_names'][dataset_train[b'fine_labels'][n]])"
   ]
  },
  {
   "cell_type": "markdown",
   "metadata": {},
   "source": [
    "Now we know how to check labels, is there a way that we can also check file names? `dataset_train` also contains a `b'filenames'` key. Let's see what we have here:"
   ]
  },
  {
   "cell_type": "code",
   "execution_count": 11,
   "metadata": {},
   "outputs": [
    {
     "name": "stdout",
     "output_type": "stream",
     "text": [
      "b'bos_taurus_s_000507.png'\n"
     ]
    }
   ],
   "source": [
    "print(dataset_train[b'filenames'][0])"
   ]
  },
  {
   "cell_type": "markdown",
   "metadata": {},
   "source": [
    "\"Taurus\" is the name of a subspecies of cattle, so this looks like a pretty reasonable filename. To save an image we can also do:"
   ]
  },
  {
   "cell_type": "code",
   "execution_count": 12,
   "metadata": {},
   "outputs": [],
   "source": [
    "plt.imsave(\"file.png\", test_image)"
   ]
  },
  {
   "cell_type": "markdown",
   "metadata": {},
   "source": [
    "Your new PNG file should now appear in the file explorer -- go ahead and pop it open to see!\n",
    "\n",
    "Now that you know how to reshape the images, save them as files, and capture their filenames and labels, let's just capture all the bicycles and motorcycles and save them. Scones Unlimited can use a model that tells these apart to route delivery drivers automatically.\n",
    "\n",
    "In the following cell, identify the label numbers for Bicycles and Motorcycles:"
   ]
  },
  {
   "cell_type": "code",
   "execution_count": 13,
   "metadata": {
    "scrolled": true
   },
   "outputs": [
    {
     "name": "stdout",
     "output_type": "stream",
     "text": [
      "bicycle index: 8\n",
      "motorcycle index: 48\n"
     ]
    }
   ],
   "source": [
    "import pandas as pd\n",
    "\n",
    "# Todo: Filter the dataset_train and dataset_meta objects to find the label numbers for Bicycle and Motorcycles\n",
    "bicycle_idx = dataset_meta[b'fine_label_names'].index(b'bicycle')\n",
    "motorcycle_idx = dataset_meta[b'fine_label_names'].index(b'motorcycle')\n",
    "\n",
    "print(f'bicycle index: {bicycle_idx}')\n",
    "print(f'motorcycle index: {motorcycle_idx}')"
   ]
  },
  {
   "cell_type": "code",
   "execution_count": 14,
   "metadata": {},
   "outputs": [],
   "source": [
    "import pandas as pd"
   ]
  },
  {
   "cell_type": "code",
   "execution_count": 15,
   "metadata": {},
   "outputs": [
    {
     "data": {
      "text/plain": [
       "dict_keys([b'filenames', b'batch_label', b'fine_labels', b'coarse_labels', b'data'])"
      ]
     },
     "execution_count": 15,
     "metadata": {},
     "output_type": "execute_result"
    }
   ],
   "source": [
    "dataset_train.keys()"
   ]
  },
  {
   "cell_type": "code",
   "execution_count": 16,
   "metadata": {},
   "outputs": [
    {
     "data": {
      "text/plain": [
       "50000"
      ]
     },
     "execution_count": 16,
     "metadata": {},
     "output_type": "execute_result"
    }
   ],
   "source": [
    "len(dataset_train[b'fine_labels'])"
   ]
  },
  {
   "cell_type": "markdown",
   "metadata": {},
   "source": [
    "Good job! We only need objects with label 8 and 48 -- this drastically simplifies our handling of the data! Below we construct a dataframe for you, and you can safely drop the rows that don't contain observations about bicycles and motorcycles. Fill in the missing lines below to drop all other rows:"
   ]
  },
  {
   "cell_type": "code",
   "execution_count": 17,
   "metadata": {},
   "outputs": [],
   "source": [
    "def make_df(dataset):\n",
    "    \n",
    "    #Construct the dataframe\n",
    "    df = pd.DataFrame({\n",
    "        \"filenames\": dataset[b'filenames'],\n",
    "        \"labels\": dataset[b'fine_labels'],\n",
    "        \"row\": range(len(dataset[b'filenames']))\n",
    "    })\n",
    "\n",
    "    # Drop all rows from df where label is not 8 or 48\n",
    "    df = df[(df['labels'] == 8) | (df['labels'] == 48)]\n",
    "\n",
    "    # Decode df.filenames so they are regular strings\n",
    "    df[\"filenames\"] = df[\"filenames\"].apply(\n",
    "        lambda x: x.decode(\"utf-8\")\n",
    "    )\n",
    "    return df\n",
    "    \n",
    "df_train = make_df(dataset_train)\n",
    "df_test = make_df(dataset_test)"
   ]
  },
  {
   "cell_type": "markdown",
   "metadata": {},
   "source": [
    "Now that the data is filtered for just our classes, we can save all our images."
   ]
  },
  {
   "cell_type": "code",
   "execution_count": 22,
   "metadata": {},
   "outputs": [
    {
     "name": "stdout",
     "output_type": "stream",
     "text": [
      "mkdir: cannot create directory ‘./train’: File exists\n",
      "mkdir: cannot create directory ‘./test’: File exists\n"
     ]
    }
   ],
   "source": [
    "!mkdir ./train\n",
    "!mkdir ./test"
   ]
  },
  {
   "cell_type": "markdown",
   "metadata": {},
   "source": [
    "In the previous sections we introduced you to several key snippets of code:\n",
    "\n",
    "1. Grabbing the image data:\n",
    "\n",
    "```python\n",
    "dataset_train[b'data'][0]\n",
    "```\n",
    "\n",
    "2. A simple idiom for stacking the image data into the right shape\n",
    "\n",
    "```python\n",
    "import numpy as np\n",
    "np.dstack((\n",
    "    row[0:1024].reshape(32,32),\n",
    "    row[1024:2048].reshape(32,32),\n",
    "    row[2048:].reshape(32,32)\n",
    "))\n",
    "```\n",
    "\n",
    "3. A simple `matplotlib` utility for saving images\n",
    "\n",
    "```python\n",
    "plt.imsave(path+row['filenames'], target)\n",
    "```\n",
    "\n",
    "Compose these together into a function that saves all the images into the `./test` and `./train` directories. Use the comments in the body of the `save_images` function below to guide your construction of the function:\n"
   ]
  },
  {
   "cell_type": "code",
   "execution_count": 18,
   "metadata": {},
   "outputs": [
    {
     "data": {
      "text/plain": [
       "array([255, 253, 253, ..., 253, 253, 255], dtype=uint8)"
      ]
     },
     "execution_count": 18,
     "metadata": {},
     "output_type": "execute_result"
    }
   ],
   "source": [
    "dataset_train[b'data'][1]"
   ]
  },
  {
   "cell_type": "code",
   "execution_count": 19,
   "metadata": {},
   "outputs": [],
   "source": [
    "def filter_dataset(dataset, filter_labels):\n",
    "    \"\"\"\n",
    "    Filters the dataset to include only the elements where 'fine_labels' match the filter_labels.\n",
    "\n",
    "    Parameters:\n",
    "    dataset (dict): The dataset to filter.\n",
    "    filter_labels (list): A list of labels to filter on.\n",
    "\n",
    "    Returns:\n",
    "    dict: A filtered dataset.\n",
    "    \"\"\"\n",
    "    # Convert dataset lists to numpy arrays for efficient processing\n",
    "    data = np.array(dataset[b'data'])\n",
    "    filenames = np.array(dataset[b'filenames'])\n",
    "    fine_labels = np.array(dataset[b'fine_labels'])\n",
    "    \n",
    "    # Create a boolean mask where fine_labels match the filter_labels\n",
    "    mask = np.isin(fine_labels, filter_labels)\n",
    "\n",
    "    # Apply the mask to filter data, filenames, and fine_labels\n",
    "    filtered_data = {\n",
    "        b'data': data[mask],\n",
    "        b'filenames': filenames[mask],\n",
    "        b'fine_labels': fine_labels[mask]\n",
    "    }\n",
    "    return filtered_data"
   ]
  },
  {
   "cell_type": "code",
   "execution_count": 20,
   "metadata": {},
   "outputs": [],
   "source": [
    "# Filter data for images of interest (bicycles and motorcycles)\n",
    "filter_labels = [8, 48]\n",
    "dataset_train_filter = filter_dataset(dataset_train, filter_labels)\n",
    "dataset_test_filter = filter_dataset(dataset_test, filter_labels)"
   ]
  },
  {
   "cell_type": "code",
   "execution_count": 21,
   "metadata": {},
   "outputs": [
    {
     "data": {
      "text/plain": [
       "(3072,)"
      ]
     },
     "execution_count": 21,
     "metadata": {},
     "output_type": "execute_result"
    }
   ],
   "source": [
    "dataset_train_filter[b'data'][1].shape"
   ]
  },
  {
   "cell_type": "code",
   "execution_count": 22,
   "metadata": {},
   "outputs": [
    {
     "data": {
      "text/plain": [
       "1000"
      ]
     },
     "execution_count": 22,
     "metadata": {},
     "output_type": "execute_result"
    }
   ],
   "source": [
    "len(dataset_train_filter[b'data'])"
   ]
  },
  {
   "cell_type": "code",
   "execution_count": 28,
   "metadata": {},
   "outputs": [],
   "source": [
    "## TODO: save ALL images using the save_images function\n",
    "\n",
    "def save_images(data,path):\n",
    "\n",
    "    for idx in range(len(data[b'data'])):\n",
    "        \n",
    "        #Grab the image data in row-major form\n",
    "        \n",
    "        row = data[b'data'][idx]\n",
    "        \n",
    "        # Consolidated stacking/reshaping from earlier\n",
    "        target = np.dstack((\n",
    "            row[0:1024].reshape(32,32),\n",
    "            row[1024:2048].reshape(32,32),\n",
    "            row[2048:].reshape(32,32)\n",
    "        ))\n",
    "        # Save the image\n",
    "        file_name = data[b'filenames'][idx]\n",
    "        file_names_str = file_name.decode('utf-8')\n",
    "        plt.imsave(path+file_names_str, target)\n",
    "        \n",
    "    # Return any signal data you want for debugging\n",
    "    return\n",
    "\n"
   ]
  },
  {
   "cell_type": "code",
   "execution_count": 29,
   "metadata": {},
   "outputs": [],
   "source": [
    "save_images(dataset_train_filter,'train/')"
   ]
  },
  {
   "cell_type": "code",
   "execution_count": 30,
   "metadata": {},
   "outputs": [],
   "source": [
    "save_images(dataset_test_filter,'test/')"
   ]
  },
  {
   "cell_type": "markdown",
   "metadata": {},
   "source": [
    "### 3. Load the data\n",
    "\n",
    "Now we can load the data into S3.\n",
    "\n",
    "Using the sagemaker SDK grab the current region, execution role, and bucket."
   ]
  },
  {
   "cell_type": "code",
   "execution_count": 23,
   "metadata": {},
   "outputs": [
    {
     "name": "stdout",
     "output_type": "stream",
     "text": [
      "sagemaker.config INFO - Not applying SDK defaults from location: /etc/xdg/sagemaker/config.yaml\n",
      "sagemaker.config INFO - Not applying SDK defaults from location: /home/sagemaker-user/.config/sagemaker/config.yaml\n",
      "Default Bucket: keremkezer\n",
      "AWS Region: us-east-1\n",
      "RoleArn: arn:aws:iam::565052137584:role/full-access-sagemaker\n"
     ]
    }
   ],
   "source": [
    "import sagemaker\n",
    "\n",
    "bucket= 'keremkezer'\n",
    "print(\"Default Bucket: {}\".format(bucket))\n",
    "\n",
    "region = 'us-east-1'\n",
    "print(\"AWS Region: {}\".format(region))\n",
    "\n",
    "role = 'arn:aws:iam::565052137584:role/full-access-sagemaker'\n",
    "print(\"RoleArn: {}\".format(role))"
   ]
  },
  {
   "cell_type": "markdown",
   "metadata": {},
   "source": [
    "With this data we can easily sync your data up into S3!"
   ]
  },
  {
   "cell_type": "code",
   "execution_count": 7,
   "metadata": {},
   "outputs": [],
   "source": [
    "import os\n",
    "\n",
    "os.environ[\"DEFAULT_S3_BUCKET\"] = bucket\n",
    "!aws s3 sync ./train s3://${DEFAULT_S3_BUCKET}/train/\n",
    "!aws s3 sync ./test s3://${DEFAULT_S3_BUCKET}/test/"
   ]
  },
  {
   "cell_type": "markdown",
   "metadata": {},
   "source": [
    "And that's it! You can check the bucket and verify that the items were uploaded.\n",
    "\n",
    "## Model Training\n",
    "\n",
    "For Image Classification, Sagemaker [also expects metadata](https://docs.aws.amazon.com/sagemaker/latest/dg/image-classification.html) e.g. in the form of TSV files with labels and filepaths. We can generate these using our Pandas DataFrames from earlier:"
   ]
  },
  {
   "cell_type": "code",
   "execution_count": 42,
   "metadata": {},
   "outputs": [],
   "source": [
    "def to_metadata_file(df, prefix):\n",
    "    df[\"s3_path\"] = df[\"filenames\"]\n",
    "    df[\"labels\"] = df[\"labels\"].apply(lambda x: 0 if x==8 else 1)\n",
    "    return df[[\"row\", \"labels\", \"s3_path\"]].to_csv(\n",
    "        f\"{prefix}.lst\", sep=\"\\t\", index=False, header=False\n",
    "    )\n",
    "    \n",
    "to_metadata_file(df_train.copy(), \"train\")\n",
    "to_metadata_file(df_test.copy(), \"test\")"
   ]
  },
  {
   "cell_type": "markdown",
   "metadata": {},
   "source": [
    "We can also upload our manifest files:"
   ]
  },
  {
   "cell_type": "code",
   "execution_count": 43,
   "metadata": {},
   "outputs": [],
   "source": [
    "import boto3\n",
    "\n",
    "# Upload files\n",
    "boto3.Session().resource('s3').Bucket(\n",
    "    bucket).Object('train.lst').upload_file('./train.lst')\n",
    "boto3.Session().resource('s3').Bucket(\n",
    "    bucket).Object('test.lst').upload_file('./test.lst')"
   ]
  },
  {
   "cell_type": "markdown",
   "metadata": {},
   "source": [
    "Using the `bucket` and `region` info we can get the latest prebuilt container to run our training job, and define an output location on our s3 bucket for the model. Use the `image_uris` function from the SageMaker SDK to retrieve the latest `image-classification` image below:"
   ]
  },
  {
   "cell_type": "code",
   "execution_count": 44,
   "metadata": {},
   "outputs": [],
   "source": [
    "from sagemaker import image_uris\n",
    "import sagemaker\n",
    "from sagemaker import get_execution_role\n",
    "session = sagemaker.Session()\n",
    "region_name = session.boto_region_name\n",
    "\n",
    "algo_image = image_uris.retrieve(framework='image-classification',\n",
    "                                 region=region_name,\n",
    "                                 image_scope='training'\n",
    "                                 )\n",
    "\n",
    "s3_output_location = f\"s3://{bucket}/models/image_model\"\n",
    "role = get_execution_role()\n"
   ]
  },
  {
   "cell_type": "markdown",
   "metadata": {},
   "source": [
    "We're ready to create an estimator! Create an estimator `img_classifier_model` that uses one instance of `ml.p3.2xlarge`. Ensure that you use the output location we defined above - we'll be referring to that later!"
   ]
  },
  {
   "cell_type": "code",
   "execution_count": 45,
   "metadata": {},
   "outputs": [],
   "source": [
    "img_classifier_model = sagemaker.estimator.Estimator(\n",
    "    image_uri = algo_image,\n",
    "    role= role,\n",
    "    volume_size=5,\n",
    "    max_run=600,\n",
    "    instance_count=1,\n",
    "    instance_type='ml.p3.2xlarge',\n",
    "    output_path=s3_output_location,\n",
    "    sagemaker_session=session\n",
    ")\n"
   ]
  },
  {
   "cell_type": "markdown",
   "metadata": {},
   "source": [
    "We can also set a few key hyperparameters and define the inputs for our model:"
   ]
  },
  {
   "cell_type": "code",
   "execution_count": 46,
   "metadata": {},
   "outputs": [],
   "source": [
    "img_classifier_model.set_hyperparameters(\n",
    "    image_shape='3,32,32',\n",
    "    num_classes= 2, \n",
    "    num_training_samples= 1000,\n",
    ")"
   ]
  },
  {
   "cell_type": "markdown",
   "metadata": {},
   "source": [
    "The `image-classification` image uses four input channels with very specific input parameters. For convenience, we've provided them below:"
   ]
  },
  {
   "cell_type": "code",
   "execution_count": 47,
   "metadata": {},
   "outputs": [],
   "source": [
    "from sagemaker.debugger import Rule, rule_configs\n",
    "from sagemaker.session import TrainingInput\n",
    "model_inputs = {\n",
    "        \"train\": sagemaker.inputs.TrainingInput(\n",
    "            s3_data=f\"s3://{bucket}/train/\",\n",
    "            content_type=\"application/x-image\"\n",
    "        ),\n",
    "        \"validation\": sagemaker.inputs.TrainingInput(\n",
    "            s3_data=f\"s3://{bucket}/test/\",\n",
    "            content_type=\"application/x-image\"\n",
    "        ),\n",
    "        \"train_lst\": sagemaker.inputs.TrainingInput(\n",
    "            s3_data=f\"s3://{bucket}/train.lst\",\n",
    "            content_type=\"application/x-image\"\n",
    "        ),\n",
    "        \"validation_lst\": sagemaker.inputs.TrainingInput(\n",
    "            s3_data=f\"s3://{bucket}/test.lst\",\n",
    "            content_type=\"application/x-image\"\n",
    "        )\n",
    "}"
   ]
  },
  {
   "cell_type": "markdown",
   "metadata": {},
   "source": [
    "Great, now we can train the model using the model_inputs. In the cell below, call the `fit` method on our model,:"
   ]
  },
  {
   "cell_type": "code",
   "execution_count": 48,
   "metadata": {},
   "outputs": [
    {
     "name": "stderr",
     "output_type": "stream",
     "text": [
      "INFO:sagemaker:Creating training-job with name: image-classification-2024-10-14-13-51-47-105\n"
     ]
    },
    {
     "name": "stdout",
     "output_type": "stream",
     "text": [
      "2024-10-14 13:51:47 Starting - Starting the training job\n",
      "2024-10-14 13:51:47 Pending - Training job waiting for capacity......\n",
      "2024-10-14 13:52:30 Pending - Preparing the instances for training...\n",
      "2024-10-14 13:53:11 Downloading - Downloading input data...\n",
      "2024-10-14 13:53:31 Downloading - Downloading the training image...........................\n",
      "2024-10-14 13:58:04 Training - Training image download completed. Training in progress...\u001b[34mDocker entrypoint called with argument(s): train\u001b[0m\n",
      "\u001b[34mRunning default environment configuration script\u001b[0m\n",
      "\u001b[34mNvidia gpu devices, drivers and cuda toolkit versions (only available on hosts with GPU):\u001b[0m\n",
      "\u001b[34mMon Oct 14 13:58:26 2024       \u001b[0m\n",
      "\u001b[34m+-----------------------------------------------------------------------------------------+\u001b[0m\n",
      "\u001b[34m| NVIDIA-SMI 550.90.07              Driver Version: 550.90.07      CUDA Version: 12.4     |\u001b[0m\n",
      "\u001b[34m|-----------------------------------------+------------------------+----------------------+\u001b[0m\n",
      "\u001b[34m| GPU  Name                 Persistence-M | Bus-Id          Disp.A | Volatile Uncorr. ECC |\u001b[0m\n",
      "\u001b[34m| Fan  Temp   Perf          Pwr:Usage/Cap |           Memory-Usage | GPU-Util  Compute M. |\u001b[0m\n",
      "\u001b[34m|                                         |                        |               MIG M. |\u001b[0m\n",
      "\u001b[34m|=========================================+========================+======================|\u001b[0m\n",
      "\u001b[34m|   0  Tesla V100-SXM2-16GB           On  |   00000000:00:1E.0 Off |                    0 |\u001b[0m\n",
      "\u001b[34m| N/A   26C    P0             23W /  300W |       1MiB /  16384MiB |      0%      Default |\u001b[0m\n",
      "\u001b[34m|                                         |                        |                  N/A |\u001b[0m\n",
      "\u001b[34m+-----------------------------------------+------------------------+----------------------+\n",
      "                                                                                         \u001b[0m\n",
      "\u001b[34m+-----------------------------------------------------------------------------------------+\u001b[0m\n",
      "\u001b[34m| Processes:                                                                              |\u001b[0m\n",
      "\u001b[34m|  GPU   GI   CI        PID   Type   Process name                              GPU Memory |\u001b[0m\n",
      "\u001b[34m|        ID   ID                                                               Usage      |\u001b[0m\n",
      "\u001b[34m|=========================================================================================|\u001b[0m\n",
      "\u001b[34m|  No running processes found                                                             |\u001b[0m\n",
      "\u001b[34m+-----------------------------------------------------------------------------------------+\u001b[0m\n",
      "\u001b[34mChecking for nvidia driver and cuda compatibility.\u001b[0m\n",
      "\u001b[34mCUDA Compatibility driver provided.\u001b[0m\n",
      "\u001b[34mProceeding with compatibility check between driver, cuda-toolkit and cuda-compat.\u001b[0m\n",
      "\u001b[34mDetected cuda-toolkit version: 11.1.\u001b[0m\n",
      "\u001b[34mDetected cuda-compat version: 455.32.00.\u001b[0m\n",
      "\u001b[34mDetected Nvidia driver version: 550.90.07.\u001b[0m\n",
      "\u001b[34mNvidia driver compatible with cuda-toolkit. Disabling cuda-compat.\u001b[0m\n",
      "\u001b[34m/opt/amazon/lib/python3.8/site-packages/mxnet/model.py:97: SyntaxWarning: \"is\" with a literal. Did you mean \"==\"?\n",
      "  if num_device is 1 and 'dist' not in kvstore:\u001b[0m\n",
      "\u001b[34m[10/14/2024 13:58:29 INFO 140358366873408] Reading default configuration from /opt/amazon/lib/python3.8/site-packages/image_classification/default-input.json: {'use_pretrained_model': 0, 'num_layers': 152, 'epochs': 30, 'learning_rate': 0.1, 'lr_scheduler_factor': 0.1, 'optimizer': 'sgd', 'momentum': 0, 'weight_decay': 0.0001, 'beta_1': 0.9, 'beta_2': 0.999, 'eps': 1e-08, 'gamma': 0.9, 'mini_batch_size': 32, 'image_shape': '3,224,224', 'precision_dtype': 'float32'}\u001b[0m\n",
      "\u001b[34m[10/14/2024 13:58:29 INFO 140358366873408] Merging with provided configuration from /opt/ml/input/config/hyperparameters.json: {'image_shape': '3,32,32', 'num_classes': '2', 'num_training_samples': '1000'}\u001b[0m\n",
      "\u001b[34m[10/14/2024 13:58:29 INFO 140358366873408] Final configuration: {'use_pretrained_model': 0, 'num_layers': 152, 'epochs': 30, 'learning_rate': 0.1, 'lr_scheduler_factor': 0.1, 'optimizer': 'sgd', 'momentum': 0, 'weight_decay': 0.0001, 'beta_1': 0.9, 'beta_2': 0.999, 'eps': 1e-08, 'gamma': 0.9, 'mini_batch_size': 32, 'image_shape': '3,32,32', 'precision_dtype': 'float32', 'num_classes': '2', 'num_training_samples': '1000'}\u001b[0m\n",
      "\u001b[34m[10/14/2024 13:58:29 INFO 140358366873408] Searching for .lst files in /opt/ml/input/data/train_lst.\u001b[0m\n",
      "\u001b[34m[10/14/2024 13:58:29 INFO 140358366873408] Creating record files for train.lst\u001b[0m\n",
      "\u001b[34m[10/14/2024 13:58:30 INFO 140358366873408] Done creating record files...\u001b[0m\n",
      "\u001b[34m[10/14/2024 13:58:30 INFO 140358366873408] Searching for .lst files in /opt/ml/input/data/validation_lst.\u001b[0m\n",
      "\u001b[34m[10/14/2024 13:58:30 INFO 140358366873408] Creating record files for test.lst\u001b[0m\n",
      "\u001b[34m[10/14/2024 13:58:30 INFO 140358366873408] Done creating record files...\u001b[0m\n",
      "\u001b[34m[10/14/2024 13:58:30 INFO 140358366873408] use_pretrained_model: 0\u001b[0m\n",
      "\u001b[34m[10/14/2024 13:58:30 INFO 140358366873408] multi_label: 0\u001b[0m\n",
      "\u001b[34m[10/14/2024 13:58:30 INFO 140358366873408] Performing random weight initialization\u001b[0m\n",
      "\u001b[34m[10/14/2024 13:58:30 INFO 140358366873408] ---- Parameters ----\u001b[0m\n",
      "\u001b[34m[10/14/2024 13:58:30 INFO 140358366873408] num_layers: 152\u001b[0m\n",
      "\u001b[34m[10/14/2024 13:58:30 INFO 140358366873408] data type: <class 'numpy.float32'>\u001b[0m\n",
      "\u001b[34m[10/14/2024 13:58:30 INFO 140358366873408] epochs: 30\u001b[0m\n",
      "\u001b[34m[10/14/2024 13:58:30 INFO 140358366873408] optimizer: sgd\u001b[0m\n",
      "\u001b[34m[10/14/2024 13:58:30 INFO 140358366873408] momentum: 0.9\u001b[0m\n",
      "\u001b[34m[10/14/2024 13:58:30 INFO 140358366873408] weight_decay: 0.0001\u001b[0m\n",
      "\u001b[34m[10/14/2024 13:58:30 INFO 140358366873408] learning_rate: 0.1\u001b[0m\n",
      "\u001b[34m[10/14/2024 13:58:30 INFO 140358366873408] num_training_samples: 1000\u001b[0m\n",
      "\u001b[34m[10/14/2024 13:58:30 INFO 140358366873408] mini_batch_size: 32\u001b[0m\n",
      "\u001b[34m[10/14/2024 13:58:30 INFO 140358366873408] image_shape: 3,32,32\u001b[0m\n",
      "\u001b[34m[10/14/2024 13:58:30 INFO 140358366873408] num_classes: 2\u001b[0m\n",
      "\u001b[34m[10/14/2024 13:58:30 INFO 140358366873408] augmentation_type: None\u001b[0m\n",
      "\u001b[34m[10/14/2024 13:58:30 INFO 140358366873408] kv_store: device\u001b[0m\n",
      "\u001b[34m[10/14/2024 13:58:30 INFO 140358366873408] checkpoint_frequency not set, will store the best model\u001b[0m\n",
      "\u001b[34m[10/14/2024 13:58:30 INFO 140358366873408] --------------------\u001b[0m\n",
      "\u001b[34m/opt/amazon/python3.8/lib/python3.8/subprocess.py:848: RuntimeWarning: line buffering (buffering=1) isn't supported in binary mode, the default buffer size will be used\n",
      "  self.stdout = io.open(c2pread, 'rb', bufsize)\u001b[0m\n",
      "\u001b[34m[10/14/2024 13:58:30 INFO 140358366873408] Setting number of threads: 7\u001b[0m\n",
      "\u001b[34m[13:58:34] /opt/brazil-pkg-cache/packages/AIAlgorithmsMXNet/AIAlgorithmsMXNet-1.4.x_ecl_Cuda_11.1.x.441.0/AL2_x86_64/generic-flavor/src/src/operator/nn/./cudnn/./cudnn_algoreg-inl.h:97: Running performance tests to find the best convolution algorithm, this can take a while... (setting env variable MXNET_CUDNN_AUTOTUNE_DEFAULT to 0 to disable)\u001b[0m\n",
      "\u001b[34m[10/14/2024 13:58:39 INFO 140358366873408] Epoch[0] Batch [20]#011Speed: 122.567 samples/sec#011accuracy=0.534226\u001b[0m\n",
      "\u001b[34m[10/14/2024 13:58:41 INFO 140358366873408] Epoch[0] Train-accuracy=0.566532\u001b[0m\n",
      "\u001b[34m[10/14/2024 13:58:41 INFO 140358366873408] Epoch[0] Time cost=6.848\u001b[0m\n",
      "\u001b[34m[10/14/2024 13:58:41 INFO 140358366873408] Epoch[0] Validation-accuracy=0.500000\u001b[0m\n",
      "\u001b[34m[10/14/2024 13:58:42 INFO 140358366873408] Storing the best model with validation accuracy: 0.500000\u001b[0m\n",
      "\u001b[34m[10/14/2024 13:58:42 INFO 140358366873408] Saved checkpoint to \"/opt/ml/model/image-classification-0001.params\"\u001b[0m\n",
      "\u001b[34m[10/14/2024 13:58:45 INFO 140358366873408] Epoch[1] Batch [20]#011Speed: 185.829 samples/sec#011accuracy=0.718750\u001b[0m\n",
      "\u001b[34m[10/14/2024 13:58:47 INFO 140358366873408] Epoch[1] Train-accuracy=0.710685\u001b[0m\n",
      "\u001b[34m[10/14/2024 13:58:47 INFO 140358366873408] Epoch[1] Time cost=5.078\u001b[0m\n",
      "\u001b[34m[10/14/2024 13:58:47 INFO 140358366873408] Epoch[1] Validation-accuracy=0.604167\u001b[0m\n",
      "\u001b[34m[10/14/2024 13:58:48 INFO 140358366873408] Storing the best model with validation accuracy: 0.604167\u001b[0m\n",
      "\u001b[34m[10/14/2024 13:58:48 INFO 140358366873408] Saved checkpoint to \"/opt/ml/model/image-classification-0002.params\"\u001b[0m\n",
      "\u001b[34m[10/14/2024 13:58:51 INFO 140358366873408] Epoch[2] Batch [20]#011Speed: 191.954 samples/sec#011accuracy=0.738095\u001b[0m\n",
      "\u001b[34m[10/14/2024 13:58:53 INFO 140358366873408] Epoch[2] Train-accuracy=0.741935\u001b[0m\n",
      "\u001b[34m[10/14/2024 13:58:53 INFO 140358366873408] Epoch[2] Time cost=4.969\u001b[0m\n",
      "\u001b[34m[10/14/2024 13:58:54 INFO 140358366873408] Epoch[2] Validation-accuracy=0.755208\u001b[0m\n",
      "\u001b[34m[10/14/2024 13:58:54 INFO 140358366873408] Storing the best model with validation accuracy: 0.755208\u001b[0m\n",
      "\u001b[34m[10/14/2024 13:58:54 INFO 140358366873408] Saved checkpoint to \"/opt/ml/model/image-classification-0003.params\"\u001b[0m\n",
      "\u001b[34m[10/14/2024 13:58:58 INFO 140358366873408] Epoch[3] Batch [20]#011Speed: 191.748 samples/sec#011accuracy=0.741071\u001b[0m\n",
      "\u001b[34m[10/14/2024 13:58:59 INFO 140358366873408] Epoch[3] Train-accuracy=0.767137\u001b[0m\n",
      "\u001b[34m[10/14/2024 13:58:59 INFO 140358366873408] Epoch[3] Time cost=4.952\u001b[0m\n",
      "\u001b[34m[10/14/2024 13:59:00 INFO 140358366873408] Epoch[3] Validation-accuracy=0.834821\u001b[0m\n",
      "\u001b[34m[10/14/2024 13:59:00 INFO 140358366873408] Storing the best model with validation accuracy: 0.834821\u001b[0m\n",
      "\u001b[34m[10/14/2024 13:59:00 INFO 140358366873408] Saved checkpoint to \"/opt/ml/model/image-classification-0004.params\"\u001b[0m\n",
      "\u001b[34m[10/14/2024 13:59:04 INFO 140358366873408] Epoch[4] Batch [20]#011Speed: 185.857 samples/sec#011accuracy=0.787202\u001b[0m\n",
      "\u001b[34m[10/14/2024 13:59:06 INFO 140358366873408] Epoch[4] Train-accuracy=0.791331\u001b[0m\n",
      "\u001b[34m[10/14/2024 13:59:06 INFO 140358366873408] Epoch[4] Time cost=5.088\u001b[0m\n",
      "\u001b[34m[10/14/2024 13:59:06 INFO 140358366873408] Epoch[4] Validation-accuracy=0.802083\u001b[0m\n",
      "\u001b[34m[10/14/2024 13:59:10 INFO 140358366873408] Epoch[5] Batch [20]#011Speed: 190.731 samples/sec#011accuracy=0.830357\u001b[0m\n",
      "\u001b[34m[10/14/2024 13:59:11 INFO 140358366873408] Epoch[5] Train-accuracy=0.818548\u001b[0m\n",
      "\u001b[34m[10/14/2024 13:59:11 INFO 140358366873408] Epoch[5] Time cost=4.988\u001b[0m\n",
      "\u001b[34m[10/14/2024 13:59:12 INFO 140358366873408] Epoch[5] Validation-accuracy=0.822917\u001b[0m\n",
      "\u001b[34m[10/14/2024 13:59:16 INFO 140358366873408] Epoch[6] Batch [20]#011Speed: 191.785 samples/sec#011accuracy=0.846726\u001b[0m\n",
      "\u001b[34m[10/14/2024 13:59:17 INFO 140358366873408] Epoch[6] Train-accuracy=0.841734\u001b[0m\n",
      "\u001b[34m[10/14/2024 13:59:17 INFO 140358366873408] Epoch[6] Time cost=4.993\u001b[0m\n",
      "\u001b[34m[10/14/2024 13:59:18 INFO 140358366873408] Epoch[6] Validation-accuracy=0.828125\u001b[0m\n",
      "\u001b[34m[10/14/2024 13:59:22 INFO 140358366873408] Epoch[7] Batch [20]#011Speed: 191.900 samples/sec#011accuracy=0.818452\u001b[0m\n",
      "\u001b[34m[10/14/2024 13:59:23 INFO 140358366873408] Epoch[7] Train-accuracy=0.821573\u001b[0m\n",
      "\u001b[34m[10/14/2024 13:59:23 INFO 140358366873408] Epoch[7] Time cost=4.976\u001b[0m\n",
      "\u001b[34m[10/14/2024 13:59:24 INFO 140358366873408] Epoch[7] Validation-accuracy=0.834821\u001b[0m\n",
      "\u001b[34m[10/14/2024 13:59:28 INFO 140358366873408] Epoch[8] Batch [20]#011Speed: 191.323 samples/sec#011accuracy=0.833333\u001b[0m\n",
      "\u001b[34m[10/14/2024 13:59:29 INFO 140358366873408] Epoch[8] Train-accuracy=0.836694\u001b[0m\n",
      "\u001b[34m[10/14/2024 13:59:29 INFO 140358366873408] Epoch[8] Time cost=5.020\u001b[0m\n",
      "\u001b[34m[10/14/2024 13:59:30 INFO 140358366873408] Epoch[8] Validation-accuracy=0.848958\u001b[0m\n",
      "\u001b[34m[10/14/2024 13:59:30 INFO 140358366873408] Storing the best model with validation accuracy: 0.848958\u001b[0m\n",
      "\u001b[34m[10/14/2024 13:59:30 INFO 140358366873408] Saved checkpoint to \"/opt/ml/model/image-classification-0009.params\"\u001b[0m\n",
      "\u001b[34m[10/14/2024 13:59:34 INFO 140358366873408] Epoch[9] Batch [20]#011Speed: 191.062 samples/sec#011accuracy=0.836310\u001b[0m\n",
      "\u001b[34m[10/14/2024 13:59:35 INFO 140358366873408] Epoch[9] Train-accuracy=0.841734\u001b[0m\n",
      "\u001b[34m[10/14/2024 13:59:35 INFO 140358366873408] Epoch[9] Time cost=4.982\u001b[0m\n",
      "\u001b[34m[10/14/2024 13:59:36 INFO 140358366873408] Epoch[9] Validation-accuracy=0.833333\u001b[0m\n",
      "\u001b[34m[10/14/2024 13:59:40 INFO 140358366873408] Epoch[10] Batch [20]#011Speed: 192.862 samples/sec#011accuracy=0.852679\u001b[0m\n",
      "\u001b[34m[10/14/2024 13:59:41 INFO 140358366873408] Epoch[10] Train-accuracy=0.850806\u001b[0m\n",
      "\u001b[34m[10/14/2024 13:59:41 INFO 140358366873408] Epoch[10] Time cost=4.954\u001b[0m\n",
      "\u001b[34m[10/14/2024 13:59:42 INFO 140358366873408] Epoch[10] Validation-accuracy=0.776042\u001b[0m\n",
      "\u001b[34m[10/14/2024 13:59:46 INFO 140358366873408] Epoch[11] Batch [20]#011Speed: 193.106 samples/sec#011accuracy=0.836310\u001b[0m\n",
      "\u001b[34m[10/14/2024 13:59:47 INFO 140358366873408] Epoch[11] Train-accuracy=0.833669\u001b[0m\n",
      "\u001b[34m[10/14/2024 13:59:47 INFO 140358366873408] Epoch[11] Time cost=4.942\u001b[0m\n",
      "\u001b[34m[10/14/2024 13:59:48 INFO 140358366873408] Epoch[11] Validation-accuracy=0.772321\u001b[0m\n",
      "\u001b[34m[10/14/2024 13:59:52 INFO 140358366873408] Epoch[12] Batch [20]#011Speed: 190.288 samples/sec#011accuracy=0.869048\u001b[0m\n",
      "\u001b[34m[10/14/2024 13:59:53 INFO 140358366873408] Epoch[12] Train-accuracy=0.873992\u001b[0m\n",
      "\u001b[34m[10/14/2024 13:59:53 INFO 140358366873408] Epoch[12] Time cost=5.001\u001b[0m\n",
      "\u001b[34m[10/14/2024 13:59:54 INFO 140358366873408] Epoch[12] Validation-accuracy=0.843750\u001b[0m\n",
      "\u001b[34m[10/14/2024 13:59:57 INFO 140358366873408] Epoch[13] Batch [20]#011Speed: 192.038 samples/sec#011accuracy=0.876488\u001b[0m\n",
      "\u001b[34m[10/14/2024 13:59:59 INFO 140358366873408] Epoch[13] Train-accuracy=0.881048\u001b[0m\n",
      "\u001b[34m[10/14/2024 13:59:59 INFO 140358366873408] Epoch[13] Time cost=4.973\u001b[0m\n",
      "\u001b[34m[10/14/2024 14:00:00 INFO 140358366873408] Epoch[13] Validation-accuracy=0.828125\u001b[0m\n",
      "\u001b[34m[10/14/2024 14:00:03 INFO 140358366873408] Epoch[14] Batch [20]#011Speed: 185.577 samples/sec#011accuracy=0.916667\u001b[0m\n",
      "\u001b[34m[10/14/2024 14:00:05 INFO 140358366873408] Epoch[14] Train-accuracy=0.910282\u001b[0m\n",
      "\u001b[34m[10/14/2024 14:00:05 INFO 140358366873408] Epoch[14] Time cost=5.096\u001b[0m\n",
      "\u001b[34m[10/14/2024 14:00:06 INFO 140358366873408] Epoch[14] Validation-accuracy=0.776042\u001b[0m\n",
      "\u001b[34m[10/14/2024 14:00:09 INFO 140358366873408] Epoch[15] Batch [20]#011Speed: 192.390 samples/sec#011accuracy=0.898810\u001b[0m\n",
      "\u001b[34m[10/14/2024 14:00:11 INFO 140358366873408] Epoch[15] Train-accuracy=0.882056\u001b[0m\n",
      "\u001b[34m[10/14/2024 14:00:11 INFO 140358366873408] Epoch[15] Time cost=4.969\u001b[0m\n",
      "\u001b[34m[10/14/2024 14:00:11 INFO 140358366873408] Epoch[15] Validation-accuracy=0.803571\u001b[0m\n",
      "\u001b[34m[10/14/2024 14:00:15 INFO 140358366873408] Epoch[16] Batch [20]#011Speed: 191.253 samples/sec#011accuracy=0.906250\u001b[0m\n",
      "\u001b[34m[10/14/2024 14:00:17 INFO 140358366873408] Epoch[16] Train-accuracy=0.896169\u001b[0m\n",
      "\u001b[34m[10/14/2024 14:00:17 INFO 140358366873408] Epoch[16] Time cost=4.986\u001b[0m\n",
      "\u001b[34m[10/14/2024 14:00:17 INFO 140358366873408] Epoch[16] Validation-accuracy=0.828125\u001b[0m\n",
      "\u001b[34m[10/14/2024 14:00:21 INFO 140358366873408] Epoch[17] Batch [20]#011Speed: 191.557 samples/sec#011accuracy=0.909226\u001b[0m\n",
      "\u001b[34m[10/14/2024 14:00:23 INFO 140358366873408] Epoch[17] Train-accuracy=0.910282\u001b[0m\n",
      "\u001b[34m[10/14/2024 14:00:23 INFO 140358366873408] Epoch[17] Time cost=4.967\u001b[0m\n",
      "\u001b[34m[10/14/2024 14:00:23 INFO 140358366873408] Epoch[17] Validation-accuracy=0.869792\u001b[0m\n",
      "\u001b[34m[10/14/2024 14:00:23 INFO 140358366873408] Storing the best model with validation accuracy: 0.869792\u001b[0m\n",
      "\u001b[34m[10/14/2024 14:00:24 INFO 140358366873408] Saved checkpoint to \"/opt/ml/model/image-classification-0018.params\"\u001b[0m\n",
      "\u001b[34m[10/14/2024 14:00:27 INFO 140358366873408] Epoch[18] Batch [20]#011Speed: 192.233 samples/sec#011accuracy=0.931548\u001b[0m\n",
      "\u001b[34m[10/14/2024 14:00:29 INFO 140358366873408] Epoch[18] Train-accuracy=0.933468\u001b[0m\n",
      "\u001b[34m[10/14/2024 14:00:29 INFO 140358366873408] Epoch[18] Time cost=4.961\u001b[0m\n",
      "\u001b[34m[10/14/2024 14:00:29 INFO 140358366873408] Epoch[18] Validation-accuracy=0.817708\u001b[0m\n",
      "\u001b[34m[10/14/2024 14:00:33 INFO 140358366873408] Epoch[19] Batch [20]#011Speed: 191.412 samples/sec#011accuracy=0.952381\u001b[0m\n",
      "\u001b[34m[10/14/2024 14:00:35 INFO 140358366873408] Epoch[19] Train-accuracy=0.950605\u001b[0m\n",
      "\u001b[34m[10/14/2024 14:00:35 INFO 140358366873408] Epoch[19] Time cost=4.982\u001b[0m\n",
      "\u001b[34m[10/14/2024 14:00:35 INFO 140358366873408] Epoch[19] Validation-accuracy=0.825893\u001b[0m\n",
      "\u001b[34m[10/14/2024 14:00:39 INFO 140358366873408] Epoch[20] Batch [20]#011Speed: 191.573 samples/sec#011accuracy=0.949405\u001b[0m\n",
      "\u001b[34m[10/14/2024 14:00:41 INFO 140358366873408] Epoch[20] Train-accuracy=0.930444\u001b[0m\n",
      "\u001b[34m[10/14/2024 14:00:41 INFO 140358366873408] Epoch[20] Time cost=4.980\u001b[0m\n",
      "\u001b[34m[10/14/2024 14:00:41 INFO 140358366873408] Epoch[20] Validation-accuracy=0.776042\u001b[0m\n",
      "\u001b[34m[10/14/2024 14:00:45 INFO 140358366873408] Epoch[21] Batch [20]#011Speed: 192.481 samples/sec#011accuracy=0.938988\u001b[0m\n",
      "\u001b[34m[10/14/2024 14:00:47 INFO 140358366873408] Epoch[21] Train-accuracy=0.941532\u001b[0m\n",
      "\u001b[34m[10/14/2024 14:00:47 INFO 140358366873408] Epoch[21] Time cost=4.958\u001b[0m\n",
      "\u001b[34m[10/14/2024 14:00:47 INFO 140358366873408] Epoch[21] Validation-accuracy=0.791667\u001b[0m\n",
      "\u001b[34m[10/14/2024 14:00:51 INFO 140358366873408] Epoch[22] Batch [20]#011Speed: 192.127 samples/sec#011accuracy=0.952381\u001b[0m\n",
      "\u001b[34m[10/14/2024 14:00:53 INFO 140358366873408] Epoch[22] Train-accuracy=0.947581\u001b[0m\n",
      "\u001b[34m[10/14/2024 14:00:53 INFO 140358366873408] Epoch[22] Time cost=4.958\u001b[0m\n",
      "\u001b[34m[10/14/2024 14:00:53 INFO 140358366873408] Epoch[22] Validation-accuracy=0.802083\u001b[0m\n",
      "\u001b[34m[10/14/2024 14:00:57 INFO 140358366873408] Epoch[23] Batch [20]#011Speed: 192.494 samples/sec#011accuracy=0.959821\u001b[0m\n",
      "\u001b[34m[10/14/2024 14:00:58 INFO 140358366873408] Epoch[23] Train-accuracy=0.953629\u001b[0m\n",
      "\u001b[34m[10/14/2024 14:00:58 INFO 140358366873408] Epoch[23] Time cost=4.955\u001b[0m\n",
      "\u001b[34m[10/14/2024 14:00:59 INFO 140358366873408] Epoch[23] Validation-accuracy=0.870536\u001b[0m\n",
      "\u001b[34m[10/14/2024 14:00:59 INFO 140358366873408] Storing the best model with validation accuracy: 0.870536\u001b[0m\n",
      "\u001b[34m[10/14/2024 14:01:00 INFO 140358366873408] Saved checkpoint to \"/opt/ml/model/image-classification-0024.params\"\u001b[0m\n",
      "\u001b[34m[10/14/2024 14:01:03 INFO 140358366873408] Epoch[24] Batch [20]#011Speed: 185.542 samples/sec#011accuracy=0.980655\u001b[0m\n",
      "\u001b[34m[10/14/2024 14:01:05 INFO 140358366873408] Epoch[24] Train-accuracy=0.976815\u001b[0m\n",
      "\u001b[34m[10/14/2024 14:01:05 INFO 140358366873408] Epoch[24] Time cost=5.104\u001b[0m\n",
      "\u001b[34m[10/14/2024 14:01:05 INFO 140358366873408] Epoch[24] Validation-accuracy=0.859375\u001b[0m\n",
      "\u001b[34m[10/14/2024 14:01:09 INFO 140358366873408] Epoch[25] Batch [20]#011Speed: 192.428 samples/sec#011accuracy=0.980655\u001b[0m\n",
      "\u001b[34m[10/14/2024 14:01:11 INFO 140358366873408] Epoch[25] Train-accuracy=0.976815\u001b[0m\n",
      "\u001b[34m[10/14/2024 14:01:11 INFO 140358366873408] Epoch[25] Time cost=4.955\u001b[0m\n",
      "\u001b[34m[10/14/2024 14:01:11 INFO 140358366873408] Epoch[25] Validation-accuracy=0.848958\u001b[0m\n",
      "\u001b[34m[10/14/2024 14:01:15 INFO 140358366873408] Epoch[26] Batch [20]#011Speed: 192.466 samples/sec#011accuracy=0.952381\u001b[0m\n",
      "\u001b[34m[10/14/2024 14:01:17 INFO 140358366873408] Epoch[26] Train-accuracy=0.957661\u001b[0m\n",
      "\u001b[34m[10/14/2024 14:01:17 INFO 140358366873408] Epoch[26] Time cost=4.957\u001b[0m\n",
      "\u001b[34m[10/14/2024 14:01:17 INFO 140358366873408] Epoch[26] Validation-accuracy=0.864583\u001b[0m\n",
      "\u001b[34m[10/14/2024 14:01:21 INFO 140358366873408] Epoch[27] Batch [20]#011Speed: 192.622 samples/sec#011accuracy=0.976190\u001b[0m\n",
      "\u001b[34m[10/14/2024 14:01:22 INFO 140358366873408] Epoch[27] Train-accuracy=0.966734\u001b[0m\n",
      "\u001b[34m[10/14/2024 14:01:22 INFO 140358366873408] Epoch[27] Time cost=4.952\u001b[0m\n",
      "\u001b[34m[10/14/2024 14:01:23 INFO 140358366873408] Epoch[27] Validation-accuracy=0.866071\u001b[0m\n",
      "\u001b[34m[10/14/2024 14:01:27 INFO 140358366873408] Epoch[28] Batch [20]#011Speed: 190.495 samples/sec#011accuracy=0.973214\u001b[0m\n",
      "\u001b[34m[10/14/2024 14:01:28 INFO 140358366873408] Epoch[28] Train-accuracy=0.970766\u001b[0m\n",
      "\u001b[34m[10/14/2024 14:01:28 INFO 140358366873408] Epoch[28] Time cost=5.006\u001b[0m\n",
      "\u001b[34m[10/14/2024 14:01:29 INFO 140358366873408] Epoch[28] Validation-accuracy=0.833333\u001b[0m\n",
      "\u001b[34m[10/14/2024 14:01:33 INFO 140358366873408] Epoch[29] Batch [20]#011Speed: 191.886 samples/sec#011accuracy=0.988095\u001b[0m\n",
      "\u001b[34m[10/14/2024 14:01:34 INFO 140358366873408] Epoch[29] Train-accuracy=0.978831\u001b[0m\n",
      "\u001b[34m[10/14/2024 14:01:34 INFO 140358366873408] Epoch[29] Time cost=4.975\u001b[0m\n",
      "\u001b[34m[10/14/2024 14:01:35 INFO 140358366873408] Epoch[29] Validation-accuracy=0.880208\u001b[0m\n",
      "\u001b[34m[10/14/2024 14:01:35 INFO 140358366873408] Storing the best model with validation accuracy: 0.880208\u001b[0m\n",
      "\u001b[34m[10/14/2024 14:01:35 INFO 140358366873408] Saved checkpoint to \"/opt/ml/model/image-classification-0030.params\"\u001b[0m\n",
      "\n",
      "2024-10-14 14:01:58 Uploading - Uploading generated training model\n",
      "2024-10-14 14:01:58 Completed - Training job completed\n",
      "Training seconds: 527\n",
      "Billable seconds: 527\n"
     ]
    }
   ],
   "source": [
    "## TODO: train your model\n",
    "img_classifier_model.fit(model_inputs)"
   ]
  },
  {
   "cell_type": "markdown",
   "metadata": {},
   "source": [
    "If all goes well, you'll end up with a model topping out above `.8` validation accuracy. With only 1000 training samples in the CIFAR dataset, that's pretty good. We could definitely pursue data augmentation & gathering more samples to help us improve further, but for now let's proceed to deploy our model.\n",
    "\n",
    "### Getting ready to deploy\n",
    "\n",
    "To begin with, let's configure Model Monitor to track our deployment. We'll define a `DataCaptureConfig` below:"
   ]
  },
  {
   "cell_type": "code",
   "execution_count": 49,
   "metadata": {},
   "outputs": [],
   "source": [
    "from sagemaker.model_monitor import DataCaptureConfig\n",
    "\n",
    "data_capture_config = DataCaptureConfig(\n",
    "    ## TODO: Set config options\n",
    "    destination_s3_uri= f\"s3://{bucket}/data_capture\",\n",
    "    enable_capture= True,\n",
    "    sampling_percentage=100,\n",
    ")"
   ]
  },
  {
   "cell_type": "markdown",
   "metadata": {},
   "source": [
    "Note the `destination_s3_uri` parameter: At the end of the project, we can explore the `data_capture` directory in S3 to find crucial data about the inputs and outputs Model Monitor has observed on our model endpoint over time.\n",
    "\n",
    "With that done, deploy your model on a single `ml.m5.xlarge` instance with the data capture config attached:"
   ]
  },
  {
   "cell_type": "code",
   "execution_count": 50,
   "metadata": {},
   "outputs": [
    {
     "name": "stderr",
     "output_type": "stream",
     "text": [
      "INFO:sagemaker:Creating model with name: image-classification-2024-10-14-14-02-13-683\n",
      "INFO:sagemaker:Creating endpoint-config with name image-classification-2024-10-14-14-02-13-683\n",
      "INFO:sagemaker:Creating endpoint with name image-classification-2024-10-14-14-02-13-683\n"
     ]
    },
    {
     "name": "stdout",
     "output_type": "stream",
     "text": [
      "--------------!image-classification-2024-10-14-14-02-13-683\n"
     ]
    }
   ],
   "source": [
    "deployment = img_classifier_model.deploy(\n",
    "    ## TODO: fill in deployment options\n",
    "    instance_type='ml.m5.xlarge',\n",
    "    initial_instance_count=1,\n",
    "    data_capture_config=data_capture_config\n",
    ")\n",
    "    \n",
    "\n",
    "endpoint = deployment.endpoint_name\n",
    "print(endpoint)"
   ]
  },
  {
   "cell_type": "code",
   "execution_count": null,
   "metadata": {},
   "outputs": [],
   "source": [
    "print(endpoint)"
   ]
  },
  {
   "cell_type": "markdown",
   "metadata": {},
   "source": [
    "Note the endpoint name for later as well.\n",
    "\n",
    "Next, instantiate a Predictor:"
   ]
  },
  {
   "cell_type": "code",
   "execution_count": 53,
   "metadata": {},
   "outputs": [
    {
     "name": "stderr",
     "output_type": "stream",
     "text": [
      "WARNING:sagemaker.deprecations:content_type is a no-op in sagemaker>=2.\n",
      "See: https://sagemaker.readthedocs.io/en/stable/v2.html for details.\n"
     ]
    }
   ],
   "source": [
    "from sagemaker.predictor import Predictor\n",
    "\n",
    "predictor = Predictor(endpoint_name=endpoint,sagemaker_session=sagemaker.Session(),content_type='image/png')    "
   ]
  },
  {
   "cell_type": "markdown",
   "metadata": {},
   "source": [
    "In the code snippet below we are going to prepare one of your saved images for prediction. Use the predictor to process the `payload`."
   ]
  },
  {
   "cell_type": "code",
   "execution_count": 54,
   "metadata": {},
   "outputs": [],
   "source": [
    "from sagemaker.serializers import IdentitySerializer\n",
    "import base64\n",
    "\n",
    "predictor.serializer = IdentitySerializer(\"image/png\")\n",
    "with open(\"./test/bicycle_s_001789.png\", \"rb\") as f:\n",
    "    payload = f.read()\n",
    "\n",
    "    \n",
    "inference = predictor.predict(payload)"
   ]
  },
  {
   "cell_type": "markdown",
   "metadata": {},
   "source": [
    "Your `inference` object is an array of two values, the predicted probability value for each of your classes (bicycle and motorcycle respectively.) So, for example, a value of `b'[0.91, 0.09]'` indicates the probability of being a bike is 91% and being a motorcycle is 9%."
   ]
  },
  {
   "cell_type": "code",
   "execution_count": 55,
   "metadata": {},
   "outputs": [
    {
     "name": "stdout",
     "output_type": "stream",
     "text": [
      "b'[0.9995775818824768, 0.00042247766396030784]'\n"
     ]
    }
   ],
   "source": [
    "print(inference)"
   ]
  },
  {
   "cell_type": "markdown",
   "metadata": {
    "jp-MarkdownHeadingCollapsed": true
   },
   "source": [
    "### Draft Lambdas and Step Function Workflow\n",
    "\n",
    "Your operations team uses Step Functions to orchestrate serverless workflows. One of the nice things about Step Functions is that [workflows can call other workflows](https://docs.aws.amazon.com/step-functions/latest/dg/connect-stepfunctions.html), so the team can easily plug your workflow into the broader production architecture for Scones Unlimited.\n",
    "\n",
    "In this next stage you're going to write and deploy three Lambda functions, and then use the Step Functions visual editor to chain them together! Our functions are going to work with a simple data object:\n",
    "\n",
    "```python\n",
    "{\n",
    "    \"inferences\": [], # Output of predictor.predict\n",
    "    \"s3_key\": \"\", # Source data S3 key\n",
    "    \"s3_bucket\": \"\", # Source data S3 bucket\n",
    "    \"image_data\": \"\"  # base64 encoded string containing the image data\n",
    "}\n",
    "```\n",
    "\n",
    "A good test object that you can use for Lambda tests and Step Function executions, throughout the next section, might look like this:\n",
    "\n",
    "```python\n",
    "{\n",
    "  \"image_data\": \"\",\n",
    "  \"s3_bucket\": MY_BUCKET_NAME, # Fill in with your bucket\n",
    "  \"s3_key\": \"test/bicycle_s_000513.png\"\n",
    "}\n",
    "```\n",
    "\n",
    "Using these fields, your functions can read and write the necessary data to execute your workflow. Let's start with the first function. Your first Lambda function will copy an object from S3, base64 encode it, and then return it to the step function as `image_data` in an event.\n",
    "\n",
    "Go to the Lambda dashboard and create a new Lambda function with a descriptive name like \"serializeImageData\" and select thr 'Python 3.8' runtime. Add the same permissions as the SageMaker role you created earlier. (Reminder: you do this in the Configuration tab under \"Permissions\"). Once you're ready, use the starter code below to craft your Lambda handler:\n",
    "\n",
    "```python\n",
    "import json\n",
    "import boto3\n",
    "import base64\n",
    "\n",
    "s3 = boto3.client('s3')\n",
    "\n",
    "def lambda_handler(event, context):\n",
    "    \"\"\"A function to serialize target data from S3\"\"\"\n",
    "    \n",
    "    # Get the s3 address from the Step Function event input\n",
    "    key = ## TODO: fill in\n",
    "    bucket = ## TODO: fill in\n",
    "    \n",
    "    # Download the data from s3 to /tmp/image.png\n",
    "    ## TODO: fill in\n",
    "    \n",
    "    # We read the data from a file\n",
    "    with open(\"/tmp/image.png\", \"rb\") as f:\n",
    "        image_data = base64.b64encode(f.read())\n",
    "\n",
    "    # Pass the data back to the Step Function\n",
    "    print(\"Event:\", event.keys())\n",
    "    return {\n",
    "        'statusCode': 200,\n",
    "        'body': {\n",
    "            \"image_data\": image_data,\n",
    "            \"s3_bucket\": bucket,\n",
    "            \"s3_key\": key,\n",
    "            \"inferences\": []\n",
    "        }\n",
    "    }\n",
    "```\n",
    "\n",
    "The next function is responsible for the classification part - we're going to take the image output from the previous function, decode it, and then pass inferences back to the the Step Function.\n",
    "\n",
    "Because this Lambda will have runtime dependencies (i.e. the SageMaker SDK) you'll need to package them in your function. *Key reading:* https://docs.aws.amazon.com/lambda/latest/dg/python-package-create.html#python-package-create-with-dependency\n",
    "\n",
    "Create a new Lambda function with the same rights and a descriptive name, then fill in the starter code below for your classifier Lambda.\n",
    "\n",
    "```python\n",
    "import json\n",
    "import sagemaker\n",
    "import base64\n",
    "from sagemaker.serializers import IdentitySerializer\n",
    "\n",
    "# Fill this in with the name of your deployed model\n",
    "ENDPOINT = ## TODO: fill in\n",
    "\n",
    "def lambda_handler(event, context):\n",
    "\n",
    "    # Decode the image data\n",
    "    image = base64.b64decode(## TODO: fill in)\n",
    "\n",
    "    # Instantiate a Predictor\n",
    "    predictor = ## TODO: fill in\n",
    "\n",
    "    # For this model the IdentitySerializer needs to be \"image/png\"\n",
    "    predictor.serializer = IdentitySerializer(\"image/png\")\n",
    "    \n",
    "    # Make a prediction:\n",
    "    inferences = ## TODO: fill in\n",
    "    \n",
    "    # We return the data back to the Step Function    \n",
    "    event[\"inferences\"] = inferences.decode('utf-8')\n",
    "    return {\n",
    "        'statusCode': 200,\n",
    "        'body': json.dumps(event)\n",
    "    }\n",
    "```\n",
    "\n",
    "Finally, we need to filter low-confidence inferences. Define a threshold between 1.00 and 0.000 for your model: what is reasonble for you? If the model predicts at `.70` for it's highest confidence label, do we want to pass that inference along to downstream systems? Make one last Lambda function and tee up the same permissions:\n",
    "\n",
    "```python\n",
    "import json\n",
    "\n",
    "\n",
    "THRESHOLD = .93\n",
    "\n",
    "\n",
    "def lambda_handler(event, context):\n",
    "    \n",
    "    # Grab the inferences from the event\n",
    "    inferences = ## TODO: fill in\n",
    "    \n",
    "    # Check if any values in our inferences are above THRESHOLD\n",
    "    meets_threshold = ## TODO: fill in\n",
    "    \n",
    "    # If our threshold is met, pass our data back out of the\n",
    "    # Step Function, else, end the Step Function with an error\n",
    "    if meets_threshold:\n",
    "        pass\n",
    "    else:\n",
    "        raise(\"THRESHOLD_CONFIDENCE_NOT_MET\")\n",
    "\n",
    "    return {\n",
    "        'statusCode': 200,\n",
    "        'body': json.dumps(event)\n",
    "    }\n",
    "```\n",
    "Once you have tested the lambda functions, save the code for each lambda function in a python script called 'lambda.py'.\n",
    "\n",
    "With your lambdas in place, you can use the Step Functions visual editor to construct a workflow that chains them together. In the Step Functions console you'll have the option to author a Standard step function *Visually*.\n",
    "\n",
    "When the visual editor opens, you'll have many options to add transitions in your workflow. We're going to keep it simple and have just one: to invoke Lambda functions. Add three of them chained together. For each one, you'll be able to select the Lambda functions you just created in the proper order, filter inputs and outputs, and give them descriptive names.\n",
    "\n",
    "Make sure that you:\n",
    "\n",
    "1. Are properly filtering the inputs and outputs of your invokations (e.g. `$.body`)\n",
    "2. Take care to remove the error handling from the last function - it's supposed to \"fail loudly\" for your operations colleagues!\n",
    "\n",
    "Take a screenshot of your working step function in action and export the step function as JSON for your submission package."
   ]
  },
  {
   "cell_type": "markdown",
   "metadata": {},
   "source": [
    "\n",
    "Great! Now you can use the files in `./test` as test files for our workflow. Depending on our threshold, our workflow should reliably pass predictions about images from `./test` on to downstream systems, while erroring out for inferences below our confidence threshold!\n",
    "\n",
    "### Testing and Evaluation\n",
    "\n",
    "Do several step function invokations using data from the `./test` folder. This process should give you confidence that the workflow both *succeeds* AND *fails* as expected. In addition, SageMaker Model Monitor will generate recordings of your data and inferences which we can visualize.\n",
    "\n",
    "Here's a function that can help you generate test inputs for your invokations:"
   ]
  },
  {
   "cell_type": "code",
   "execution_count": 2,
   "metadata": {},
   "outputs": [
    {
     "data": {
      "text/plain": [
       "'{\"image_data\": \"\", \"s3_bucket\": \"keremkezer\", \"s3_key\": \"test/velocipede_s_001232.png\"}'"
      ]
     },
     "execution_count": 2,
     "metadata": {},
     "output_type": "execute_result"
    }
   ],
   "source": [
    "import random\n",
    "import boto3\n",
    "import json\n",
    "\n",
    "bucket='keremkezer'\n",
    "def generate_test_case():\n",
    "    # Setup s3 in boto3\n",
    "    s3 = boto3.resource('s3')\n",
    "    \n",
    "    # Randomly pick from sfn or test folders in our bucket\n",
    "    objects = s3.Bucket(bucket).objects.filter(Prefix='test/')\n",
    "    \n",
    "    # Grab any random object key from that folder!\n",
    "    obj = random.choice([x.key for x in objects])\n",
    "    \n",
    "    return json.dumps({\n",
    "        \"image_data\": \"\",\n",
    "        \"s3_bucket\": bucket,\n",
    "        \"s3_key\": obj\n",
    "    })\n",
    "generate_test_case()"
   ]
  },
  {
   "cell_type": "markdown",
   "metadata": {},
   "source": [
    "In the Step Function dashboard for your new function, you can create new executions and copy in the generated test cases. Do several executions so that you can generate data you can evaluate and visualize.\n",
    "\n",
    "Once you've done several executions, let's visualize the record of our inferences. Pull in the JSONLines data from your inferences like so:"
   ]
  },
  {
   "cell_type": "code",
   "execution_count": 3,
   "metadata": {},
   "outputs": [
    {
     "name": "stdout",
     "output_type": "stream",
     "text": [
      "sagemaker.config INFO - Not applying SDK defaults from location: /etc/xdg/sagemaker/config.yaml\n",
      "sagemaker.config INFO - Not applying SDK defaults from location: /home/sagemaker-user/.config/sagemaker/config.yaml\n"
     ]
    },
    {
     "data": {
      "text/plain": [
       "['captured_data/17-14-789-1e4ab632-541d-4999-beef-8e47e7b801d9.jsonl']"
      ]
     },
     "execution_count": 3,
     "metadata": {},
     "output_type": "execute_result"
    }
   ],
   "source": [
    "from sagemaker.s3 import S3Downloader\n",
    "\n",
    "# In S3 your data will be saved to a datetime-aware path\n",
    "# Find a path related to a datetime you're interested in\n",
    "data_path = \"s3://keremkezer/data_capture/image-classification-2024-10-14-14-02-13-683/AllTraffic/2024/10/14/14/17-14-789-1e4ab632-541d-4999-beef-8e47e7b801d9.jsonl\"\n",
    "\n",
    "S3Downloader.download(data_path, \"captured_data\")\n",
    "\n",
    "# Feel free to repeat this multiple times and pull in more data"
   ]
  },
  {
   "cell_type": "markdown",
   "metadata": {},
   "source": [
    "The data are in JSONLines format, where multiple valid JSON objects are stacked on top of eachother in a single `jsonl` file. We'll import an open-source library, `jsonlines` that was purpose built for parsing this format."
   ]
  },
  {
   "cell_type": "code",
   "execution_count": 5,
   "metadata": {},
   "outputs": [
    {
     "name": "stdout",
     "output_type": "stream",
     "text": [
      "Collecting jsonlines\n",
      "  Using cached jsonlines-4.0.0-py3-none-any.whl.metadata (1.6 kB)\n",
      "Requirement already satisfied: attrs>=19.2.0 in /opt/conda/lib/python3.10/site-packages (from jsonlines) (23.2.0)\n",
      "Using cached jsonlines-4.0.0-py3-none-any.whl (8.7 kB)\n",
      "Installing collected packages: jsonlines\n",
      "Successfully installed jsonlines-4.0.0\n"
     ]
    }
   ],
   "source": [
    "!pip install jsonlines\n",
    "import jsonlines"
   ]
  },
  {
   "cell_type": "markdown",
   "metadata": {},
   "source": [
    "Now we can extract the data from each of the source files:"
   ]
  },
  {
   "cell_type": "code",
   "execution_count": 10,
   "metadata": {},
   "outputs": [],
   "source": [
    "import os\n",
    "import jsonlines\n",
    "\n",
    "# List the file names we downloaded\n",
    "file_handles = os.listdir(\"./captured_data\")\n",
    "\n",
    "# Dump all the data into an array\n",
    "json_data = []\n",
    "for jsonl in file_handles:\n",
    "    file_path = f\"./captured_data/{jsonl}\"\n",
    "    \n",
    "    # Check if it's a file, not a directory\n",
    "    if os.path.isfile(file_path):\n",
    "        with jsonlines.open(file_path) as f:\n",
    "            json_data.append(f.read())\n"
   ]
  },
  {
   "cell_type": "markdown",
   "metadata": {},
   "source": [
    "The data should now be a list of dictionaries, with significant nesting. We'll give you an example of some code that grabs data out of the objects and visualizes it:"
   ]
  },
  {
   "cell_type": "code",
   "execution_count": 11,
   "metadata": {},
   "outputs": [
    {
     "data": {
      "text/plain": [
       "([0.9995775818824768, 0.00042247766396030784], '2024-10-14T14:17:14Z')"
      ]
     },
     "execution_count": 11,
     "metadata": {},
     "output_type": "execute_result"
    }
   ],
   "source": [
    "# Define how we'll get our data\n",
    "def simple_getter(obj):\n",
    "    inferences = obj[\"captureData\"][\"endpointOutput\"][\"data\"]\n",
    "    timestamp = obj[\"eventMetadata\"][\"inferenceTime\"]\n",
    "    return json.loads(inferences), timestamp\n",
    "\n",
    "simple_getter(json_data[0])"
   ]
  },
  {
   "cell_type": "markdown",
   "metadata": {},
   "source": [
    "Finally, here's an example of a visualization you can build with this data. In this last part, you will take some time and build your own - the captured data has the input images, the resulting inferences, and the timestamps."
   ]
  },
  {
   "cell_type": "code",
   "execution_count": 13,
   "metadata": {},
   "outputs": [
    {
     "data": {
      "image/png": "[encoded data removed]",
      "text/plain": [
       "<Figure size 640x480 with 1 Axes>"
      ]
     },
     "metadata": {},
     "output_type": "display_data"
    }
   ],
   "source": [
    "import matplotlib.pyplot as plt\n",
    "# Populate the data for the x and y axis\n",
    "x = []\n",
    "y = []\n",
    "for obj in json_data:\n",
    "    inference, timestamp = simple_getter(obj)\n",
    "    \n",
    "    y.append(max(inference))\n",
    "    x.append(timestamp)\n",
    "\n",
    "# Todo: here is an visualization example, take some time to build another visual that helps monitor the result\n",
    "# Plot the data\n",
    "plt.scatter(x, y, c=['r' if k<.94 else 'b' for k in y ])\n",
    "plt.axhline(y=0.94, color='g', linestyle='--')\n",
    "plt.ylim(bottom=.88)\n",
    "\n",
    "# Add labels\n",
    "plt.ylabel(\"Confidence\")\n",
    "plt.suptitle(\"Observed Recent Inferences\", size=14)\n",
    "plt.title(\"Pictured with confidence threshold for production use\", size=10)\n",
    "\n",
    "# Give it some pizzaz!\n",
    "plt.style.use(\"Solarize_Light2\")\n",
    "plt.gcf().autofmt_xdate()"
   ]
  },
  {
   "cell_type": "markdown",
   "metadata": {},
   "source": [
    "### Todo: build your own visualization\n"
   ]
  },
  {
   "cell_type": "markdown",
   "metadata": {},
   "source": [
    "### Congratulations!\n",
    "\n",
    "You've reached the end of the project. In this project you created an event-drivent ML workflow that can be incorporated into the Scones Unlimited production architecture. You used the SageMaker Estimator API to deploy your SageMaker Model and Endpoint, and you used AWS Lambda and Step Functions to orchestrate your ML workflow. Using SageMaker Model Monitor, you instrumented and observed your Endpoint, and at the end of the project you built a visualization to help stakeholders understand the performance of the Endpoint over time. If you're up for it, you can even go further with these stretch goals:\n",
    "\n",
    "* Extend your workflow to incorporate more classes: the CIFAR dataset includes other vehicles that Scones Unlimited can identify with this model.\n",
    "* Modify your event driven workflow: can you rewrite your Lambda functions so that the workflow can process multiple image inputs in parallel? Can the Step Function \"fan out\" to accomodate this new workflow?\n",
    "* Consider the test data generator we provided for you. Can we use it to create a \"dummy data\" generator, to simulate a continuous stream of input data? Or a big paralell load of data?\n",
    "* What if we want to get notified every time our step function errors out? Can we use the Step Functions visual editor in conjunction with a service like SNS to accomplish this? Try it out!\n",
    "\n",
    "\n"
   ]
  },
  {
   "cell_type": "code",
   "execution_count": 27,
   "metadata": {},
   "outputs": [],
   "source": [
    "test_path=glob.glob('./test/*.png')"
   ]
  },
  {
   "cell_type": "code",
   "execution_count": 28,
   "metadata": {},
   "outputs": [
    {
     "data": {
      "image/png": "[encoded data removed]",
      "text/plain": [
       "<Figure size 1000x1000 with 3 Axes>"
      ]
     },
     "metadata": {},
     "output_type": "display_data"
    }
   ],
   "source": [
    "import glob\n",
    "import random\n",
    "import matplotlib.pyplot as plt\n",
    "import re\n",
    "\n",
    "def display_random_images(image_paths,num_images=3):\n",
    "    \n",
    "\n",
    "    plt.figure(figsize=(10, 10))\n",
    "    for i in range(1, num_images + 1):\n",
    "        random_image = random.choice(image_paths)  # Randomly select an image\n",
    "        img_name = re.split(r\"/|\\\\\", random_image)[-1]  # Extract file name\n",
    "        img_array = plt.imread(random_image)\n",
    "\n",
    "        plt.subplot(1, num_images, i)\n",
    "        plt.axis('off')\n",
    "        plt.imshow(img_array)\n",
    "        plt.title(img_name, fontsize=10)\n",
    "\n",
    "    plt.tight_layout()\n",
    "    plt.show()\n",
    "\n",
    "# Example usage\n",
    "display_random_images(test_path,num_images=3)\n"
   ]
  },
  {
   "cell_type": "code",
   "execution_count": 2,
   "metadata": {},
   "outputs": [
    {
     "ename": "FileNotFoundError",
     "evalue": "[Errno 2] No such file or directory: 'your_notebook.ipynb'",
     "output_type": "error",
     "traceback": [
      "\u001b[1;31m---------------------------------------------------------------------------\u001b[0m",
      "\u001b[1;31mFileNotFoundError\u001b[0m                         Traceback (most recent call last)",
      "Cell \u001b[1;32mIn[2], line 5\u001b[0m\n\u001b[0;32m      2\u001b[0m \u001b[38;5;28;01mfrom\u001b[39;00m \u001b[38;5;21;01mnbconvert\u001b[39;00m \u001b[38;5;28;01mimport\u001b[39;00m HTMLExporter\n\u001b[0;32m      4\u001b[0m \u001b[38;5;66;03m# Load the notebook\u001b[39;00m\n\u001b[1;32m----> 5\u001b[0m \u001b[38;5;28;01mwith\u001b[39;00m \u001b[38;5;28;43mopen\u001b[39;49m\u001b[43m(\u001b[49m\u001b[38;5;124;43m\"\u001b[39;49m\u001b[38;5;124;43myour_notebook.ipynb\u001b[39;49m\u001b[38;5;124;43m\"\u001b[39;49m\u001b[43m)\u001b[49m \u001b[38;5;28;01mas\u001b[39;00m f:\n\u001b[0;32m      6\u001b[0m     notebook_content \u001b[38;5;241m=\u001b[39m f\u001b[38;5;241m.\u001b[39mread()\n\u001b[0;32m      8\u001b[0m \u001b[38;5;66;03m# Convert notebook to HTML\u001b[39;00m\n",
      "File \u001b[1;32mc:\\Users\\Atlas\\anaconda3\\lib\\site-packages\\IPython\\core\\interactiveshell.py:286\u001b[0m, in \u001b[0;36m_modified_open\u001b[1;34m(file, *args, **kwargs)\u001b[0m\n\u001b[0;32m    279\u001b[0m \u001b[38;5;28;01mif\u001b[39;00m file \u001b[38;5;129;01min\u001b[39;00m {\u001b[38;5;241m0\u001b[39m, \u001b[38;5;241m1\u001b[39m, \u001b[38;5;241m2\u001b[39m}:\n\u001b[0;32m    280\u001b[0m     \u001b[38;5;28;01mraise\u001b[39;00m \u001b[38;5;167;01mValueError\u001b[39;00m(\n\u001b[0;32m    281\u001b[0m         \u001b[38;5;124mf\u001b[39m\u001b[38;5;124m\"\u001b[39m\u001b[38;5;124mIPython won\u001b[39m\u001b[38;5;124m'\u001b[39m\u001b[38;5;124mt let you open fd=\u001b[39m\u001b[38;5;132;01m{\u001b[39;00mfile\u001b[38;5;132;01m}\u001b[39;00m\u001b[38;5;124m by default \u001b[39m\u001b[38;5;124m\"\u001b[39m\n\u001b[0;32m    282\u001b[0m         \u001b[38;5;124m\"\u001b[39m\u001b[38;5;124mas it is likely to crash IPython. If you know what you are doing, \u001b[39m\u001b[38;5;124m\"\u001b[39m\n\u001b[0;32m    283\u001b[0m         \u001b[38;5;124m\"\u001b[39m\u001b[38;5;124myou can use builtins\u001b[39m\u001b[38;5;124m'\u001b[39m\u001b[38;5;124m open.\u001b[39m\u001b[38;5;124m\"\u001b[39m\n\u001b[0;32m    284\u001b[0m     )\n\u001b[1;32m--> 286\u001b[0m \u001b[38;5;28;01mreturn\u001b[39;00m io_open(file, \u001b[38;5;241m*\u001b[39margs, \u001b[38;5;241m*\u001b[39m\u001b[38;5;241m*\u001b[39mkwargs)\n",
      "\u001b[1;31mFileNotFoundError\u001b[0m: [Errno 2] No such file or directory: 'your_notebook.ipynb'"
     ]
    }
   ],
   "source": [
    "import nbformat\n",
    "from nbconvert import HTMLExporter\n",
    "\n",
    "# Load the notebook\n",
    "with open(\"your_notebook.ipynb\") as f:\n",
    "    notebook_content = f.read()\n",
    "\n",
    "# Convert notebook to HTML\n",
    "notebook = nbformat.reads(notebook_content, as_version=4)\n",
    "html_exporter = HTMLExporter()\n",
    "(body, resources) = html_exporter.from_notebook_node(notebook)\n",
    "\n",
    "# Write the HTML output to a file\n",
    "with open(\"output.html\", \"w\") as f:\n",
    "    f.write(body)\n",
    "\n",
    "print(\"Conversion complete!\")\n"
   ]
  }
 ],
 "metadata": {
  "instance_type": "ml.t3.medium",
  "kernelspec": {
   "display_name": "base",
   "language": "python",
   "name": "python3"
  },
  "language_info": {
   "codemirror_mode": {
    "name": "ipython",
    "version": 3
   },
   "file_extension": ".py",
   "mimetype": "text/x-python",
   "name": "python",
   "nbconvert_exporter": "python",
   "pygments_lexer": "ipython3",
   "version": "3.9.18"
  }
 },
 "nbformat": 4,
 "nbformat_minor": 4
}
